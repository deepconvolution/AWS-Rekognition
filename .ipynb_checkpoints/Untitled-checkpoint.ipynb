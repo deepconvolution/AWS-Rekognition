{
 "cells": [
  {
   "cell_type": "markdown",
   "metadata": {},
   "source": [
    "# AWS Rekognition"
   ]
  },
  {
   "cell_type": "markdown",
   "metadata": {},
   "source": [
    "-  It is an image analysis and Recognition software which was built on top of deep learning technologies.\n",
    "-  In image recognition through deep learning we try to recognize images through learning from data.\n",
    "-  But with AWS Rekognize we can build scalable for image recognition apps without need to learn any deep learning technologies."
   ]
  },
  {
   "cell_type": "code",
   "execution_count": null,
   "metadata": {},
   "outputs": [],
   "source": []
  },
  {
   "cell_type": "markdown",
   "metadata": {},
   "source": [
    "## It was released in ``2016``"
   ]
  },
  {
   "cell_type": "markdown",
   "metadata": {},
   "source": [
    "- We need to give a picture and get back a json showing information about the picture.\n",
    "- It is capable of doing face rekognition, object detection & localization, age analysis and many other things."
   ]
  },
  {
   "cell_type": "markdown",
   "metadata": {},
   "source": [
    "## Start with aws console\n",
    "- Open aws\n",
    "- Login to the console\n",
    "- Search for Rekognition\n",
    "- Click on ``Try Demo``\n",
    "- Click on ``Upload`` a image to try with an image\n",
    "    - **The Result** bar will show the accuracy for each class. \n",
    "    - Click the **Response** to see the **Result** in json.\n",
    "    - "
   ]
  },
  {
   "cell_type": "markdown",
   "metadata": {},
   "source": [
    "## Start with aws CLI\n",
    "- Create a aws S3 bucket\n",
    "![alt text](images/Screenshot from 2018-02-07 02-09-34.png)\n",
    "![alt text](images/Screenshot from 2018-02-07 02-16-14.png)\n",
    "![alt text](images/Screenshot from 2018-02-07 02-17-31.png)\n",
    "![alt text](images/Screenshot from 2018-02-07 02-17-51.png)\n",
    "![alt text](images/Screenshot from 2018-02-07 02-17-57.png)\n",
    "![alt text](images/Screenshot from 2018-02-07 02-18-01.png)\n",
    "\n",
    "- ### Store the test image in the bucket\n",
    "![alt text](images/4-flower-wallpaper.preview.jpg)\n",
    "\n",
    "\n",
    "- ### Refer [this link](https://www.youtube.com/watch?v=v33Kl-Kx30o) for S3 tutorial.\n",
    "- Got to the terminal\n",
    "    - The terminal should be configured with aws functionalities.\n",
    "- Type --> ``aws rekognition detect-labels --image “S3Object={Bucket=name-of-bucket,Name=test.jpg}” --region us-west-2``\n",
    "- Click ``Enter``\n",
    "\n",
    "- This will show a response in json\n",
    "``\n",
    "LABELS\t97.5228042602539\tCosmos\n",
    "LABELS\t89.71295166015625\tBlossom\n",
    "LABELS\t89.71295166015625\tFlora\n",
    "LABELS\t89.71295166015625\tFlower\n",
    "LABELS\t89.71295166015625\tGeranium\n",
    "LABELS\t89.71295166015625\tPlant\n",
    "LABELS\t66.86774444580078\tCrocus\n",
    "LABELS\t61.45215606689453\tDaisies\n",
    "LABELS\t61.45215606689453\tDaisy\n",
    "LABELS\t58.925926208496094\tAster\n",
    "LABELS\t55.03359603881836\tDahlia\n",
    "LABELS\t53.56421661376953\tPetal\n",
    "LABELS\t50.99127960205078\tAsteraceae\n",
    "``\n"
   ]
  },
  {
   "cell_type": "markdown",
   "metadata": {},
   "source": [
    "### To get help on other commands\n",
    "- Type --> ``aws rekognition help``"
   ]
  },
  {
   "cell_type": "markdown",
   "metadata": {},
   "source": [
    "### For Full video lecture go here : [The link](https://www.youtube.com/watch?v=-2C6-cSB674)"
   ]
  },
  {
   "cell_type": "code",
   "execution_count": null,
   "metadata": {},
   "outputs": [],
   "source": []
  },
  {
   "cell_type": "markdown",
   "metadata": {},
   "source": []
  }
 ],
 "metadata": {
  "kernelspec": {
   "display_name": "Python 3",
   "language": "python",
   "name": "python3"
  },
  "language_info": {
   "codemirror_mode": {
    "name": "ipython",
    "version": 3
   },
   "file_extension": ".py",
   "mimetype": "text/x-python",
   "name": "python",
   "nbconvert_exporter": "python",
   "pygments_lexer": "ipython3",
   "version": "3.5.4"
  }
 },
 "nbformat": 4,
 "nbformat_minor": 2
}
